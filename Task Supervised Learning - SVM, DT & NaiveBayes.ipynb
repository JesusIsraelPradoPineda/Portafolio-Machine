{
  "nbformat": 4,
  "nbformat_minor": 0,
  "metadata": {
    "colab": {
      "provenance": []
    },
    "kernelspec": {
      "name": "python3",
      "display_name": "Python 3"
    },
    "language_info": {
      "name": "python"
    }
  },
  "cells": [
    {
      "cell_type": "markdown",
      "source": [
        "##**SVM**\n",
        "Support Vector Machine (SVM) is a powerful supervised machine learning algorithm used both for classification and regression.\n",
        "\n",
        "SVMs have been used in various domains including image classification, text categorization, bioinformatics, and even in financial time series forecasting.\n",
        "\n",
        "The main idea behind SVM is to find a hyperplane (or a decision boundary) that best separates the data into classes. In a two-dimensional space, this hyperplane is simply a line. For a dataset with more features, this could be a multi-dimensional plane.\n",
        "\n",
        "These are the data points that are closest to the hyperplane and essentially \"support\" or define the hyperplane. The SVM algorithm tries to maximize the margin between these data points and the hyperplane.\n",
        "At its core, SVM is an optimization problem. It aims to find the hyperplane that maximizes the margin while minimizing the classification error (in the case of soft margin SVM).\n",
        "\n",
        "In conclusion, SVM is a versatile algorithm that can capture complex relationships in data, but it requires careful tuning and preprocessing to perform optimally."
      ],
      "metadata": {
        "id": "UWUF9tqp40Vn"
      }
    },
    {
      "cell_type": "code",
      "execution_count": 11,
      "metadata": {
        "id": "7UJE8rRYsFdj"
      },
      "outputs": [],
      "source": [
        "import pandas as pd\n",
        "from sklearn.model_selection import train_test_split\n",
        "from sklearn.svm import SVC\n",
        "from sklearn.preprocessing import StandardScaler, LabelEncoder\n",
        "from sklearn.metrics import accuracy_score\n"
      ]
    },
    {
      "cell_type": "code",
      "source": [
        "df = pd.read_csv('/content/kaggle.csv')\n"
      ],
      "metadata": {
        "id": "H9oltI8CsINK"
      },
      "execution_count": 12,
      "outputs": []
    },
    {
      "cell_type": "code",
      "source": [
        "# Lista de columnas a eliminar\n",
        "columnas_a_eliminar = ['Cc', 'What Dinosaurs Eat']\n",
        "\n",
        "# Borrar las columnas\n",
        "df = df.drop(columns=columnas_a_eliminar)\n",
        "\n",
        "# Sobrescribir el archivo CSV original\n",
        "df.to_csv('/content/kaggle.csv', index=False)"
      ],
      "metadata": {
        "id": "aX40PyMPwmVb"
      },
      "execution_count": 13,
      "outputs": []
    },
    {
      "cell_type": "code",
      "source": [
        "from sklearn.preprocessing import LabelEncoder\n",
        "\n",
        "#LabelEncoder\n",
        "le = LabelEncoder()\n",
        "\n",
        "# To trhasform\n",
        "columnas_a_transformar = ['Accepted Name', 'Country', 'Diet', 'Early Interval', 'Formation', 'Geological Interval', 'Geological Time Period', 'Ref Author', 'State']\n",
        "\n",
        "for col in columnas_a_transformar:\n",
        "    df[col] = le.fit_transform(df[col])\n",
        "\n",
        "# Save the results\n",
        "df.to_csv('/content/kaggle.csv', index=False)\n"
      ],
      "metadata": {
        "id": "uYKxCMO8x121"
      },
      "execution_count": 14,
      "outputs": []
    },
    {
      "cell_type": "code",
      "source": [
        "#The training is defined\n",
        "X = df.drop('Country', axis=1)\n",
        "y = df['Country']\n"
      ],
      "metadata": {
        "id": "phg6EQyl1h4P"
      },
      "execution_count": 20,
      "outputs": []
    },
    {
      "cell_type": "code",
      "source": [
        "# Split the data\n",
        "X_train, X_test, y_train, y_test = train_test_split(X, y, test_size=0.2, random_state=42)\n"
      ],
      "metadata": {
        "id": "LtyDYPRd2RHO"
      },
      "execution_count": 21,
      "outputs": []
    },
    {
      "cell_type": "markdown",
      "source": [
        "These lines of code are normalizing the characteristics of the training and test sets. Specific:\n",
        "\n",
        "A StandardScaler object is created that will be used to normalize the data.\n",
        "The scaler is fitted to the training data (X_train) and then that data is transformed. This means that the scaler calculates the mean and standard deviation of X_train and then uses these values to scale (normalize) X_train.\n",
        "The scaler (pre-fitted to the training data) is used to transform the test data (X_test). It is important that X_test be transformed using the mean and standard deviation of X_train to ensure consistency."
      ],
      "metadata": {
        "id": "b10v9jgK8JXx"
      }
    },
    {
      "cell_type": "code",
      "source": [
        "scaler = StandardScaler()\n",
        "X_train = scaler.fit_transform(X_train)\n",
        "X_test = scaler.transform(X_test)\n"
      ],
      "metadata": {
        "id": "Zkk1182k2fQr"
      },
      "execution_count": 22,
      "outputs": []
    },
    {
      "cell_type": "markdown",
      "source": [
        "These lines of code are creating and training a Support Vector Machine (SVM) model:\n",
        "\n",
        "An SVC object is created with a linear kernel, which is a type of Support Vector Machine.\n",
        "The SVM model is trained (tuned) using the training data (X_train and y_train)."
      ],
      "metadata": {
        "id": "-lDw2zmx8pWT"
      }
    },
    {
      "cell_type": "code",
      "source": [
        "clf = SVC(kernel='linear')  # Puedes probar diferentes kernels como 'rbf', 'poly', etc.\n",
        "clf.fit(X_train, y_train)\n"
      ],
      "metadata": {
        "colab": {
          "base_uri": "https://localhost:8080/",
          "height": 74
        },
        "id": "KJastSHJ2iyk",
        "outputId": "12a2d75b-ee01-401a-a2fd-edcccc2cf8a2"
      },
      "execution_count": 23,
      "outputs": [
        {
          "output_type": "execute_result",
          "data": {
            "text/plain": [
              "SVC(kernel='linear')"
            ],
            "text/html": [
              "<style>#sk-container-id-1 {color: black;background-color: white;}#sk-container-id-1 pre{padding: 0;}#sk-container-id-1 div.sk-toggleable {background-color: white;}#sk-container-id-1 label.sk-toggleable__label {cursor: pointer;display: block;width: 100%;margin-bottom: 0;padding: 0.3em;box-sizing: border-box;text-align: center;}#sk-container-id-1 label.sk-toggleable__label-arrow:before {content: \"▸\";float: left;margin-right: 0.25em;color: #696969;}#sk-container-id-1 label.sk-toggleable__label-arrow:hover:before {color: black;}#sk-container-id-1 div.sk-estimator:hover label.sk-toggleable__label-arrow:before {color: black;}#sk-container-id-1 div.sk-toggleable__content {max-height: 0;max-width: 0;overflow: hidden;text-align: left;background-color: #f0f8ff;}#sk-container-id-1 div.sk-toggleable__content pre {margin: 0.2em;color: black;border-radius: 0.25em;background-color: #f0f8ff;}#sk-container-id-1 input.sk-toggleable__control:checked~div.sk-toggleable__content {max-height: 200px;max-width: 100%;overflow: auto;}#sk-container-id-1 input.sk-toggleable__control:checked~label.sk-toggleable__label-arrow:before {content: \"▾\";}#sk-container-id-1 div.sk-estimator input.sk-toggleable__control:checked~label.sk-toggleable__label {background-color: #d4ebff;}#sk-container-id-1 div.sk-label input.sk-toggleable__control:checked~label.sk-toggleable__label {background-color: #d4ebff;}#sk-container-id-1 input.sk-hidden--visually {border: 0;clip: rect(1px 1px 1px 1px);clip: rect(1px, 1px, 1px, 1px);height: 1px;margin: -1px;overflow: hidden;padding: 0;position: absolute;width: 1px;}#sk-container-id-1 div.sk-estimator {font-family: monospace;background-color: #f0f8ff;border: 1px dotted black;border-radius: 0.25em;box-sizing: border-box;margin-bottom: 0.5em;}#sk-container-id-1 div.sk-estimator:hover {background-color: #d4ebff;}#sk-container-id-1 div.sk-parallel-item::after {content: \"\";width: 100%;border-bottom: 1px solid gray;flex-grow: 1;}#sk-container-id-1 div.sk-label:hover label.sk-toggleable__label {background-color: #d4ebff;}#sk-container-id-1 div.sk-serial::before {content: \"\";position: absolute;border-left: 1px solid gray;box-sizing: border-box;top: 0;bottom: 0;left: 50%;z-index: 0;}#sk-container-id-1 div.sk-serial {display: flex;flex-direction: column;align-items: center;background-color: white;padding-right: 0.2em;padding-left: 0.2em;position: relative;}#sk-container-id-1 div.sk-item {position: relative;z-index: 1;}#sk-container-id-1 div.sk-parallel {display: flex;align-items: stretch;justify-content: center;background-color: white;position: relative;}#sk-container-id-1 div.sk-item::before, #sk-container-id-1 div.sk-parallel-item::before {content: \"\";position: absolute;border-left: 1px solid gray;box-sizing: border-box;top: 0;bottom: 0;left: 50%;z-index: -1;}#sk-container-id-1 div.sk-parallel-item {display: flex;flex-direction: column;z-index: 1;position: relative;background-color: white;}#sk-container-id-1 div.sk-parallel-item:first-child::after {align-self: flex-end;width: 50%;}#sk-container-id-1 div.sk-parallel-item:last-child::after {align-self: flex-start;width: 50%;}#sk-container-id-1 div.sk-parallel-item:only-child::after {width: 0;}#sk-container-id-1 div.sk-dashed-wrapped {border: 1px dashed gray;margin: 0 0.4em 0.5em 0.4em;box-sizing: border-box;padding-bottom: 0.4em;background-color: white;}#sk-container-id-1 div.sk-label label {font-family: monospace;font-weight: bold;display: inline-block;line-height: 1.2em;}#sk-container-id-1 div.sk-label-container {text-align: center;}#sk-container-id-1 div.sk-container {/* jupyter's `normalize.less` sets `[hidden] { display: none; }` but bootstrap.min.css set `[hidden] { display: none !important; }` so we also need the `!important` here to be able to override the default hidden behavior on the sphinx rendered scikit-learn.org. See: https://github.com/scikit-learn/scikit-learn/issues/21755 */display: inline-block !important;position: relative;}#sk-container-id-1 div.sk-text-repr-fallback {display: none;}</style><div id=\"sk-container-id-1\" class=\"sk-top-container\"><div class=\"sk-text-repr-fallback\"><pre>SVC(kernel=&#x27;linear&#x27;)</pre><b>In a Jupyter environment, please rerun this cell to show the HTML representation or trust the notebook. <br />On GitHub, the HTML representation is unable to render, please try loading this page with nbviewer.org.</b></div><div class=\"sk-container\" hidden><div class=\"sk-item\"><div class=\"sk-estimator sk-toggleable\"><input class=\"sk-toggleable__control sk-hidden--visually\" id=\"sk-estimator-id-1\" type=\"checkbox\" checked><label for=\"sk-estimator-id-1\" class=\"sk-toggleable__label sk-toggleable__label-arrow\">SVC</label><div class=\"sk-toggleable__content\"><pre>SVC(kernel=&#x27;linear&#x27;)</pre></div></div></div></div></div>"
            ]
          },
          "metadata": {},
          "execution_count": 23
        }
      ]
    },
    {
      "cell_type": "code",
      "source": [
        "y_pred = clf.predict(X_test)\n",
        "accuracy = accuracy_score(y_test, y_pred)\n",
        "print(f\"Accuracy: {accuracy * 100:.2f}%\")"
      ],
      "metadata": {
        "colab": {
          "base_uri": "https://localhost:8080/"
        },
        "id": "eYp6GVjm4RiK",
        "outputId": "29031785-236a-4c8d-b7d4-8b7c54ba2949"
      },
      "execution_count": 24,
      "outputs": [
        {
          "output_type": "stream",
          "name": "stdout",
          "text": [
            "Accuracy: 97.36%\n"
          ]
        }
      ]
    },
    {
      "cell_type": "code",
      "source": [
        "import matplotlib.pyplot as plt\n",
        "import seaborn as sns\n",
        "from sklearn.metrics import confusion_matrix\n",
        "\n",
        "# Calcular la matriz de confusión\n",
        "cm = confusion_matrix(y_test, y_pred)\n",
        "\n",
        "# Visualizar la matriz de confusión\n",
        "plt.figure(figsize=(10, 7))\n",
        "sns.heatmap(cm, annot=True, fmt='g', cmap='Blues')\n",
        "plt.xlabel('Predicted')\n",
        "plt.ylabel('Actual')\n",
        "plt.show()\n"
      ],
      "metadata": {
        "colab": {
          "base_uri": "https://localhost:8080/",
          "height": 619
        },
        "id": "tkaB-l8h4bWN",
        "outputId": "2f80de4c-3562-44f8-8e06-cd6d3b64e55b"
      },
      "execution_count": 25,
      "outputs": [
        {
          "output_type": "display_data",
          "data": {
            "text/plain": [
              "<Figure size 1000x700 with 2 Axes>"
            ],
            "image/png": "[encoded data removed]"
          },
          "metadata": {}
        }
      ]
    },
    {
      "cell_type": "code",
      "source": [
        "from sklearn.metrics import classification_report\n",
        "\n",
        "# Mostrar el informe de clasificación\n",
        "print(classification_report(y_test, y_pred))\n"
      ],
      "metadata": {
        "colab": {
          "base_uri": "https://localhost:8080/"
        },
        "id": "-k2q6PQD6xmR",
        "outputId": "3f24de1d-ad50-4958-cda1-d35edc7b271d"
      },
      "execution_count": 26,
      "outputs": [
        {
          "output_type": "stream",
          "name": "stdout",
          "text": [
            "              precision    recall  f1-score   support\n",
            "\n",
            "           0       0.97      0.94      0.96       118\n",
            "           1       1.00      1.00      1.00       104\n",
            "           2       0.33      0.50      0.40         2\n",
            "           3       0.97      0.98      0.98       269\n",
            "\n",
            "    accuracy                           0.97       493\n",
            "   macro avg       0.82      0.86      0.83       493\n",
            "weighted avg       0.97      0.97      0.97       493\n",
            "\n"
          ]
        }
      ]
    }
  ]
}